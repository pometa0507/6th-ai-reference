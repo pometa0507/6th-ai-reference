{
 "cells": [
  {
   "cell_type": "markdown",
   "id": "e7733cf0",
   "metadata": {},
   "source": [
    "# 概要\n",
    "\n",
    "本ファイルは、学習済みモデルを使用して、3D物体検出モデルの推論を実行します。 \n",
    "\n",
    "> 本ファイルで実行するスクリプトはsecond.pytorchをベースとしています。\n",
    "\n",
    "## Output\n",
    "本ファイルを実行することで、`results`ディレクトリに、推論結果(result.pkl)を生成します。\n",
    "\n",
    "```\n",
    "└ second.pytorc\n",
    "     └ checkpoints\n",
    "          └ {model_dir}\n",
    "                ├ results    <- 本ファイルにて生成されます\n",
    "                   └ step_xxxx    \n",
    "                       └─ result.pkl\n",
    "```"
   ]
  },
  {
   "cell_type": "markdown",
   "id": "e9098831",
   "metadata": {},
   "source": [
    "# 準備\n",
    "\n",
    "あらかじめ、 `data`ディレクトリに、KITTIデータセット、`velodyne_reduced`ディレクトリ、各メタ情報(pkl)ファイル、および、`second.pytorch/checkpoints/{model_dir}` ディレクトリに学習済みモデルがあることを確認してください。\n",
    "\n",
    "> 本ファイルのデフォルトでは、公開の学習済みモデル`second.pytorch/checkpoints/pointpainting`を設定しています。\n",
    "\n",
    "\n",
    "```\n",
    "├data\n",
    "   └ training\n",
    "       ├── image_2\n",
    "       ├── calib\n",
    "       ├── label_2\n",
    "       ├── velodyne\n",
    "       └── velodyne_reduced     <-- 1-2_create_dataset_kitti.ipynb にて生成\n",
    "   ├ kitti_gt_database            <-- 1-2_create_dataset_kitti.ipynb にて生成\n",
    "   ├ kitti_infos_train.pkl        <-- 1-2_create_dataset_kitti.ipynb にて生成\n",
    "   ├ kitti_infos_val.pkl          <-- 1-2_create_dataset_kitti.ipynb にて生成\n",
    "   └ kitti_infos_trainval.pkl     <-- 1-2_create_dataset_kitti.ipynb にて生成\n",
    "\n",
    "├second.pytorch\n",
    "     └─ checkpoints\n",
    "          └ {model_dir}\n",
    "                ├── checkpoints.json\n",
    "                ├── {model-step}.tckpt <-- 学習済みモデル\n",
    "```"
   ]
  },
  {
   "cell_type": "markdown",
   "id": "81e57c64",
   "metadata": {},
   "source": [
    "# 推論・評価\n",
    "\n",
    "検証データ(val)に対して推論と評価を実施します。  \n",
    "検証データの対象は`second.pytorch/second/data/ImageSets/val.txt`で定義されています。"
   ]
  },
  {
   "cell_type": "code",
   "execution_count": 1,
   "id": "0979d17c",
   "metadata": {},
   "outputs": [],
   "source": [
    "# 設定\n",
    "config_path = \"../second.pytorch/second/configs/all.fhd_painted.config\"\n",
    "\n",
    "model_dir = \"../second.pytorch/checkpoints/pointpainting\""
   ]
  },
  {
   "cell_type": "code",
   "execution_count": 2,
   "id": "9bc5c9ed",
   "metadata": {
    "scrolled": false
   },
   "outputs": [
    {
     "name": "stdout",
     "output_type": "stream",
     "text": [
      "[  41 1280 1056]\n",
      "Restoring parameters from /work/second.pytorch/checkpoints/pointpainting/voxelnet-18570.tckpt\n",
      "feature_map_size [1, 160, 132]\n",
      "remain number of infos: 3769\n",
      "Generate output labels...\n",
      "[100.0%][===================>][3.50it/s][04:50>00:00]   \n",
      "generate label finished(12.96/s). start eval:\n",
      "avg example to torch time: 10.569 ms\n",
      "avg prep time: 63.405 ms\n",
      "avg voxel_feature_extractor time = 0.634 ms\n",
      "avg middle forward time = 140.720 ms\n",
      "avg rpn forward time = 75.411 ms\n",
      "avg predict time = 17.016 ms\n",
      "/usr/local/lib/python3.7/dist-packages/numba/cuda/dispatcher.py:488: NumbaPerformanceWarning: Grid size 63 will likely result in GPU under-utilization due to low occupancy.\n",
      "  warn(NumbaPerformanceWarning(msg))\n",
      "/usr/local/lib/python3.7/dist-packages/numba/cuda/dispatcher.py:488: NumbaPerformanceWarning: Grid size 80 will likely result in GPU under-utilization due to low occupancy.\n",
      "  warn(NumbaPerformanceWarning(msg))\n",
      "/usr/local/lib/python3.7/dist-packages/numba/cuda/dispatcher.py:488: NumbaPerformanceWarning: Grid size 56 will likely result in GPU under-utilization due to low occupancy.\n",
      "  warn(NumbaPerformanceWarning(msg))\n",
      "/usr/local/lib/python3.7/dist-packages/numba/cuda/dispatcher.py:488: NumbaPerformanceWarning: Grid size 72 will likely result in GPU under-utilization due to low occupancy.\n",
      "  warn(NumbaPerformanceWarning(msg))\n",
      "/usr/local/lib/python3.7/dist-packages/numba/cuda/dispatcher.py:488: NumbaPerformanceWarning: Grid size 48 will likely result in GPU under-utilization due to low occupancy.\n",
      "  warn(NumbaPerformanceWarning(msg))\n",
      "/usr/local/lib/python3.7/dist-packages/numba/cuda/dispatcher.py:488: NumbaPerformanceWarning: Grid size 81 will likely result in GPU under-utilization due to low occupancy.\n",
      "  warn(NumbaPerformanceWarning(msg))\n",
      "/usr/local/lib/python3.7/dist-packages/numba/cuda/dispatcher.py:488: NumbaPerformanceWarning: Grid size 90 will likely result in GPU under-utilization due to low occupancy.\n",
      "  warn(NumbaPerformanceWarning(msg))\n",
      "/usr/local/lib/python3.7/dist-packages/numba/cuda/dispatcher.py:488: NumbaPerformanceWarning: Grid size 64 will likely result in GPU under-utilization due to low occupancy.\n",
      "  warn(NumbaPerformanceWarning(msg))\n",
      "/usr/local/lib/python3.7/dist-packages/numba/cuda/dispatcher.py:488: NumbaPerformanceWarning: Grid size 6 will likely result in GPU under-utilization due to low occupancy.\n",
      "  warn(NumbaPerformanceWarning(msg))\n",
      "/usr/local/lib/python3.7/dist-packages/numba/core/typed_passes.py:330: NumbaPerformanceWarning: \n",
      "The keyword argument 'parallel=True' was specified but no transformation for parallel execution was possible.\n",
      "\n",
      "To find out why, try turning on parallel diagnostics, see https://numba.readthedocs.io/en/stable/user/parallel.html#diagnostics for help.\n",
      "\n",
      "File \"../second.pytorch/second/utils/eval.py\", line 129:\n",
      "@numba.jit(nopython=True, parallel=True)\n",
      "def box3d_overlap_kernel(boxes,\n",
      "^\n",
      "\n",
      "  state.func_ir.loc))\n",
      "/usr/local/lib/python3.7/dist-packages/numba/cuda/dispatcher.py:488: NumbaPerformanceWarning: Grid size 63 will likely result in GPU under-utilization due to low occupancy.\n",
      "  warn(NumbaPerformanceWarning(msg))\n",
      "/usr/local/lib/python3.7/dist-packages/numba/cuda/dispatcher.py:488: NumbaPerformanceWarning: Grid size 80 will likely result in GPU under-utilization due to low occupancy.\n",
      "  warn(NumbaPerformanceWarning(msg))\n",
      "/usr/local/lib/python3.7/dist-packages/numba/cuda/dispatcher.py:488: NumbaPerformanceWarning: Grid size 56 will likely result in GPU under-utilization due to low occupancy.\n",
      "  warn(NumbaPerformanceWarning(msg))\n",
      "/usr/local/lib/python3.7/dist-packages/numba/cuda/dispatcher.py:488: NumbaPerformanceWarning: Grid size 72 will likely result in GPU under-utilization due to low occupancy.\n",
      "  warn(NumbaPerformanceWarning(msg))\n",
      "/usr/local/lib/python3.7/dist-packages/numba/cuda/dispatcher.py:488: NumbaPerformanceWarning: Grid size 48 will likely result in GPU under-utilization due to low occupancy.\n",
      "  warn(NumbaPerformanceWarning(msg))\n",
      "/usr/local/lib/python3.7/dist-packages/numba/cuda/dispatcher.py:488: NumbaPerformanceWarning: Grid size 81 will likely result in GPU under-utilization due to low occupancy.\n",
      "  warn(NumbaPerformanceWarning(msg))\n",
      "/usr/local/lib/python3.7/dist-packages/numba/cuda/dispatcher.py:488: NumbaPerformanceWarning: Grid size 90 will likely result in GPU under-utilization due to low occupancy.\n",
      "  warn(NumbaPerformanceWarning(msg))\n",
      "/usr/local/lib/python3.7/dist-packages/numba/cuda/dispatcher.py:488: NumbaPerformanceWarning: Grid size 64 will likely result in GPU under-utilization due to low occupancy.\n",
      "  warn(NumbaPerformanceWarning(msg))\n",
      "/usr/local/lib/python3.7/dist-packages/numba/cuda/dispatcher.py:488: NumbaPerformanceWarning: Grid size 6 will likely result in GPU under-utilization due to low occupancy.\n",
      "  warn(NumbaPerformanceWarning(msg))\n",
      "Evaluation official\n",
      "Car AP(Average Precision)@0.70, 0.70, 0.70:\n",
      "bbox AP:87.78, 78.14, 77.22\n",
      "bev  AP:89.26, 79.18, 77.94\n",
      "3d   AP:65.28, 57.73, 52.06\n",
      "aos  AP:1.76, 2.74, 3.74\n",
      "Car AP(Average Precision)@0.70, 0.50, 0.50:\n",
      "bbox AP:87.78, 78.14, 77.22\n",
      "bev  AP:90.66, 89.26, 88.32\n",
      "3d   AP:90.59, 88.69, 87.87\n",
      "aos  AP:1.76, 2.74, 3.74\n",
      "Cyclist AP(Average Precision)@0.50, 0.50, 0.50:\n",
      "bbox AP:77.68, 68.11, 65.23\n",
      "bev  AP:75.08, 58.55, 55.92\n",
      "3d   AP:72.34, 55.63, 53.41\n",
      "aos  AP:7.18, 8.93, 8.65\n",
      "Cyclist AP(Average Precision)@0.50, 0.25, 0.25:\n",
      "bbox AP:77.68, 68.11, 65.23\n",
      "bev  AP:78.16, 68.04, 63.20\n",
      "3d   AP:78.13, 68.01, 63.14\n",
      "aos  AP:7.18, 8.93, 8.65\n",
      "Pedestrian AP(Average Precision)@0.50, 0.50, 0.50:\n",
      "bbox AP:53.22, 49.34, 43.81\n",
      "bev  AP:58.18, 50.32, 47.58\n",
      "3d   AP:49.44, 42.21, 39.56\n",
      "aos  AP:14.77, 13.38, 12.05\n",
      "Pedestrian AP(Average Precision)@0.50, 0.25, 0.25:\n",
      "bbox AP:53.22, 49.34, 43.81\n",
      "bev  AP:68.74, 60.86, 57.67\n",
      "3d   AP:68.69, 60.72, 57.57\n",
      "aos  AP:14.77, 13.38, 12.05\n",
      "Van AP(Average Precision)@0.70, 0.70, 0.70:\n",
      "bbox AP:34.80, 28.28, 26.41\n",
      "bev  AP:35.07, 28.38, 26.52\n",
      "3d   AP:20.10, 19.97, 21.06\n",
      "aos  AP:4.44, 2.61, 2.13\n",
      "Van AP(Average Precision)@0.70, 0.50, 0.50:\n",
      "bbox AP:34.80, 28.28, 26.41\n",
      "bev  AP:36.18, 30.44, 31.82\n",
      "3d   AP:35.91, 30.27, 31.44\n",
      "aos  AP:4.44, 2.61, 2.13\n",
      "\n",
      "Evaluation coco\n",
      "Car coco AP@0.50:0.05:0.95:\n",
      "bbox AP:59.23, 56.09, 54.48\n",
      "bev  AP:64.74, 60.24, 58.14\n",
      "3d   AP:46.93, 43.33, 40.76\n",
      "aos  AP:1.23, 2.06, 2.82\n",
      "Cyclist coco AP@0.25:0.05:0.70:\n",
      "bbox AP:73.75, 65.13, 61.54\n",
      "bev  AP:67.26, 54.46, 50.91\n",
      "3d   AP:62.10, 49.62, 46.66\n",
      "aos  AP:6.78, 8.56, 8.10\n",
      "Pedestrian coco AP@0.25:0.05:0.70:\n",
      "bbox AP:46.88, 43.59, 40.67\n",
      "bev  AP:51.27, 45.36, 42.35\n",
      "3d   AP:44.23, 39.18, 36.40\n",
      "aos  AP:13.06, 11.81, 11.14\n",
      "Van coco AP@0.50:0.05:0.95:\n",
      "bbox AP:22.84, 21.29, 21.11\n",
      "bev  AP:22.39, 21.45, 21.52\n",
      "3d   AP:17.03, 16.92, 16.52\n",
      "aos  AP:2.90, 1.73, 1.54\n",
      "\n"
     ]
    }
   ],
   "source": [
    "!python ../second.pytorch/second/pytorch/train.py evaluate \\\n",
    "        --config_path=$config_path \\\n",
    "        --model_dir=$model_dir --measure_time=True --batch_size=4"
   ]
  },
  {
   "cell_type": "markdown",
   "id": "ff2ca0c5",
   "metadata": {},
   "source": [
    "## （オプション）推論結果の確認\n",
    "\n",
    "推論データは pklファイルに保存されています。pklファイルを読み込みことで推論データを確認することができます。"
   ]
  },
  {
   "cell_type": "code",
   "execution_count": 3,
   "id": "f570f9c9",
   "metadata": {},
   "outputs": [
    {
     "name": "stdout",
     "output_type": "stream",
     "text": [
      "result size:  3769\n",
      "tensor([[46.2894, -4.6238,  0.0532,  0.4300,  1.6142,  1.6364,  1.1156]],\n",
      "       device='cuda:0')\n"
     ]
    }
   ],
   "source": [
    "import pickle\n",
    "\n",
    "result_pkl = \"../second.pytorch/checkpoints/pointpainting/eval_results/step_18570/result.pkl\"\n",
    "\n",
    "with open(result_pkl, 'rb') as f:\n",
    "    result = pickle.load(f)  # FooクラスがないのでAttributeError例外\n",
    "\n",
    "print(\"result size: \", len(result))\n",
    "print(result[0][\"box3d_lidar\"])"
   ]
  },
  {
   "cell_type": "markdown",
   "id": "39fe1e2a",
   "metadata": {},
   "source": [
    "以上"
   ]
  }
 ],
 "metadata": {
  "kernelspec": {
   "display_name": "Python 3 (ipykernel)",
   "language": "python",
   "name": "python3"
  },
  "language_info": {
   "codemirror_mode": {
    "name": "ipython",
    "version": 3
   },
   "file_extension": ".py",
   "mimetype": "text/x-python",
   "name": "python",
   "nbconvert_exporter": "python",
   "pygments_lexer": "ipython3",
   "version": "3.7.5"
  }
 },
 "nbformat": 4,
 "nbformat_minor": 5
}
