{
 "cells": [
  {
   "cell_type": "markdown",
   "id": "e7733cf0",
   "metadata": {},
   "source": [
    "# 概要\n",
    "\n",
    "本ファイルは、学習済みモデルを使用して、3D物体検出モデルの推論を実行します。 \n",
    "\n",
    "> 本ファイルで実行するスクリプトはsecond.pytorchをベースとしています。\n",
    "\n",
    "## Output\n",
    "本ファイルを実行することで、`results`ディレクトリに、推論結果(result.pkl)を生成します。\n",
    "\n",
    "```\n",
    "└ second.pytorc\n",
    "     └ checkpoints\n",
    "          └ {model_dir}\n",
    "                ├ results    <- 本ファイルにて生成されます\n",
    "                   └ step_xxxx    \n",
    "                       └─ result.pkl\n",
    "```"
   ]
  },
  {
   "cell_type": "markdown",
   "id": "e9098831",
   "metadata": {},
   "source": [
    "# 準備\n",
    "\n",
    "あらかじめ、 `data`ディレクトリに、KITTIデータセット、`velodyne_painted_reduced`ディレクトリ、各メタ情報(pkl)ファイル、および、`second.pytorch/checkpoints/{model_dir}` ディレクトリに学習済みモデルがあることを確認してください。\n",
    "\n",
    "> 本ファイルのデフォルトでは、公開の学習済みモデル`second.pytorch/checkpoints/pointpainting`を設定しています。\n",
    "\n",
    "\n",
    "```\n",
    "├data\n",
    "   └ kitti   \n",
    "       └ training\n",
    "           ├─ image_2\n",
    "           ├─ calib\n",
    "           ├─ label_2\n",
    "           ├─ velodyne\n",
    "           ├─ velodyne_painted     <-- 1-1_painting_kitti.ipynb にて生成\n",
    "           └─ velodyne_painted_reduced  <-- 1-2_create_dataset_kitti.ipynb にて生成\n",
    "       ├ gt_database                <-- 1-2_create_dataset_kitti.ipynb にて生成\n",
    "       ├ kitti_dbinfos_train.pkl    <-- 1-2_create_dataset_kitti.ipynb にて生成\n",
    "       ├ kitti_infos_train.pkl      <-- 1-2_create_dataset_kitti.ipynb にて生成\n",
    "       ├ kitti_infos_val.pkl        <-- 1-2_create_dataset_kitti.ipynb にて生成\n",
    "       └ kitti_infos_trainval.pkl   <-- 1-2_create_dataset_kitti.ipynb にて生成\n",
    "\n",
    "├second.pytorch\n",
    "     └─ checkpoints\n",
    "          └ {model_dir}\n",
    "                ├── checkpoints.json\n",
    "                ├── {model-step}.tckpt <-- 学習済みモデル\n",
    "```"
   ]
  },
  {
   "cell_type": "markdown",
   "id": "81e57c64",
   "metadata": {},
   "source": [
    "# 推論・評価\n",
    "\n",
    "検証データ(val)に対して推論と評価を実施します。  \n",
    "検証データの対象は`second.pytorch/second/data/ImageSets/val.txt`で定義されています。"
   ]
  },
  {
   "cell_type": "code",
   "execution_count": 1,
   "id": "0979d17c",
   "metadata": {},
   "outputs": [],
   "source": [
    "# 設定\n",
    "config_path = \"../second.pytorch/second/configs/all.fhd_painted.config\"\n",
    "\n",
    "model_dir = \"../second.pytorch/checkpoints/pointpainting\""
   ]
  },
  {
   "cell_type": "code",
   "execution_count": 2,
   "id": "9bc5c9ed",
   "metadata": {
    "scrolled": true
   },
   "outputs": [
    {
     "name": "stdout",
     "output_type": "stream",
     "text": [
      "[  41 1280 1056]\n",
      "Restoring parameters from /work/second.pytorch/checkpoints/pointpainting/voxelnet-18570.tckpt\n",
      "feature_map_size [1, 160, 132]\n",
      "remain number of infos: 3769\n",
      "Generate output labels...\n",
      "[100.0%][===================>][3.18it/s][09:14>00:00]   \n",
      "generate label finished(6.79/s). start eval:\n",
      "avg example to torch time: 19.429 ms\n",
      "avg prep time: 77.472 ms\n",
      "avg voxel_feature_extractor time = 3.219 ms\n",
      "avg middle forward time = 275.297 ms\n",
      "avg rpn forward time = 150.431 ms\n",
      "avg predict time = 62.081 ms\n",
      "/usr/local/lib/python3.8/dist-packages/numba/cuda/dispatcher.py:488: NumbaPerformanceWarning: Grid size 108 will likely result in GPU under-utilization due to low occupancy.\n",
      "  warn(NumbaPerformanceWarning(msg))\n",
      "/usr/local/lib/python3.8/dist-packages/numba/cuda/dispatcher.py:488: NumbaPerformanceWarning: Grid size 117 will likely result in GPU under-utilization due to low occupancy.\n",
      "  warn(NumbaPerformanceWarning(msg))\n",
      "/usr/local/lib/python3.8/dist-packages/numba/cuda/dispatcher.py:488: NumbaPerformanceWarning: Grid size 96 will likely result in GPU under-utilization due to low occupancy.\n",
      "  warn(NumbaPerformanceWarning(msg))\n",
      "/usr/local/lib/python3.8/dist-packages/numba/cuda/dispatcher.py:488: NumbaPerformanceWarning: Grid size 104 will likely result in GPU under-utilization due to low occupancy.\n",
      "  warn(NumbaPerformanceWarning(msg))\n",
      "/usr/local/lib/python3.8/dist-packages/numba/cuda/dispatcher.py:488: NumbaPerformanceWarning: Grid size 126 will likely result in GPU under-utilization due to low occupancy.\n",
      "  warn(NumbaPerformanceWarning(msg))\n",
      "/usr/local/lib/python3.8/dist-packages/numba/cuda/dispatcher.py:488: NumbaPerformanceWarning: Grid size 88 will likely result in GPU under-utilization due to low occupancy.\n",
      "  warn(NumbaPerformanceWarning(msg))\n",
      "/usr/local/lib/python3.8/dist-packages/numba/cuda/dispatcher.py:488: NumbaPerformanceWarning: Grid size 12 will likely result in GPU under-utilization due to low occupancy.\n",
      "  warn(NumbaPerformanceWarning(msg))\n",
      "/usr/local/lib/python3.8/dist-packages/numba/core/typed_passes.py:329: NumbaPerformanceWarning: \n",
      "The keyword argument 'parallel=True' was specified but no transformation for parallel execution was possible.\n",
      "\n",
      "To find out why, try turning on parallel diagnostics, see https://numba.readthedocs.io/en/stable/user/parallel.html#diagnostics for help.\n",
      "\n",
      "File \"../second.pytorch/second/utils/eval.py\", line 129:\n",
      "@numba.jit(nopython=True, parallel=True)\n",
      "def box3d_overlap_kernel(boxes,\n",
      "^\n",
      "\n",
      "  warnings.warn(errors.NumbaPerformanceWarning(msg,\n",
      "/usr/local/lib/python3.8/dist-packages/numba/cuda/dispatcher.py:488: NumbaPerformanceWarning: Grid size 108 will likely result in GPU under-utilization due to low occupancy.\n",
      "  warn(NumbaPerformanceWarning(msg))\n",
      "/usr/local/lib/python3.8/dist-packages/numba/cuda/dispatcher.py:488: NumbaPerformanceWarning: Grid size 117 will likely result in GPU under-utilization due to low occupancy.\n",
      "  warn(NumbaPerformanceWarning(msg))\n",
      "/usr/local/lib/python3.8/dist-packages/numba/cuda/dispatcher.py:488: NumbaPerformanceWarning: Grid size 96 will likely result in GPU under-utilization due to low occupancy.\n",
      "  warn(NumbaPerformanceWarning(msg))\n",
      "/usr/local/lib/python3.8/dist-packages/numba/cuda/dispatcher.py:488: NumbaPerformanceWarning: Grid size 104 will likely result in GPU under-utilization due to low occupancy.\n",
      "  warn(NumbaPerformanceWarning(msg))\n",
      "/usr/local/lib/python3.8/dist-packages/numba/cuda/dispatcher.py:488: NumbaPerformanceWarning: Grid size 126 will likely result in GPU under-utilization due to low occupancy.\n",
      "  warn(NumbaPerformanceWarning(msg))\n",
      "/usr/local/lib/python3.8/dist-packages/numba/cuda/dispatcher.py:488: NumbaPerformanceWarning: Grid size 88 will likely result in GPU under-utilization due to low occupancy.\n",
      "  warn(NumbaPerformanceWarning(msg))\n",
      "/usr/local/lib/python3.8/dist-packages/numba/cuda/dispatcher.py:488: NumbaPerformanceWarning: Grid size 12 will likely result in GPU under-utilization due to low occupancy.\n",
      "  warn(NumbaPerformanceWarning(msg))\n",
      "Evaluation official\n",
      "Car AP(Average Precision)@0.70, 0.70, 0.70:\n",
      "bbox AP:88.02, 77.38, 75.11\n",
      "bev  AP:88.55, 78.40, 75.80\n",
      "3d   AP:63.60, 52.59, 49.94\n",
      "aos  AP:1.68, 2.71, 3.59\n",
      "Car AP(Average Precision)@0.70, 0.50, 0.50:\n",
      "bbox AP:88.02, 77.38, 75.11\n",
      "bev  AP:90.53, 87.43, 86.49\n",
      "3d   AP:90.40, 86.18, 79.79\n",
      "aos  AP:1.68, 2.71, 3.59\n",
      "Cyclist AP(Average Precision)@0.50, 0.50, 0.50:\n",
      "bbox AP:58.84, 49.30, 47.13\n",
      "bev  AP:56.16, 44.65, 42.28\n",
      "3d   AP:53.31, 41.38, 39.23\n",
      "aos  AP:4.28, 8.02, 7.41\n",
      "Cyclist AP(Average Precision)@0.50, 0.25, 0.25:\n",
      "bbox AP:58.84, 49.30, 47.13\n",
      "bev  AP:57.64, 48.13, 45.76\n",
      "3d   AP:57.63, 48.12, 45.75\n",
      "aos  AP:4.28, 8.02, 7.41\n",
      "Pedestrian AP(Average Precision)@0.50, 0.50, 0.50:\n",
      "bbox AP:28.66, 27.22, 24.91\n",
      "bev  AP:26.61, 25.54, 23.67\n",
      "3d   AP:21.98, 21.21, 19.45\n",
      "aos  AP:7.20, 6.80, 6.38\n",
      "Pedestrian AP(Average Precision)@0.50, 0.25, 0.25:\n",
      "bbox AP:28.66, 27.22, 24.91\n",
      "bev  AP:32.15, 31.43, 28.93\n",
      "3d   AP:32.12, 31.38, 28.81\n",
      "aos  AP:7.20, 6.80, 6.38\n",
      "Van AP(Average Precision)@0.70, 0.70, 0.70:\n",
      "bbox AP:12.08, 19.02, 18.14\n",
      "bev  AP:14.16, 20.73, 19.37\n",
      "3d   AP:6.12, 13.44, 12.56\n",
      "aos  AP:1.32, 1.00, 1.02\n",
      "Van AP(Average Precision)@0.70, 0.50, 0.50:\n",
      "bbox AP:12.08, 19.02, 18.14\n",
      "bev  AP:14.86, 22.02, 20.06\n",
      "3d   AP:14.86, 21.37, 19.91\n",
      "aos  AP:1.32, 1.00, 1.02\n",
      "\n",
      "Evaluation coco\n",
      "Car coco AP@0.50:0.05:0.95:\n",
      "bbox AP:60.97, 55.95, 53.59\n",
      "bev  AP:61.90, 57.13, 54.08\n",
      "3d   AP:47.01, 42.28, 39.72\n",
      "aos  AP:1.21, 2.03, 2.68\n",
      "Cyclist coco AP@0.25:0.05:0.70:\n",
      "bbox AP:54.99, 46.44, 44.41\n",
      "bev  AP:49.09, 39.86, 37.73\n",
      "3d   AP:45.89, 36.73, 34.86\n",
      "aos  AP:3.92, 7.57, 6.96\n",
      "Pedestrian coco AP@0.25:0.05:0.70:\n",
      "bbox AP:24.99, 23.94, 22.65\n",
      "bev  AP:23.01, 22.12, 20.52\n",
      "3d   AP:19.92, 19.18, 17.83\n",
      "aos  AP:6.44, 6.15, 5.96\n",
      "Van coco AP@0.50:0.05:0.95:\n",
      "bbox AP:8.78, 15.38, 14.46\n",
      "bev  AP:9.17, 14.67, 13.73\n",
      "3d   AP:6.32, 11.09, 10.42\n",
      "aos  AP:0.94, 0.70, 0.71\n",
      "\n"
     ]
    }
   ],
   "source": [
    "!python ../second.pytorch/second/pytorch/train.py evaluate \\\n",
    "        --config_path=$config_path \\\n",
    "        --model_dir=$model_dir --measure_time=True --batch_size=4"
   ]
  },
  {
   "cell_type": "markdown",
   "id": "ff2ca0c5",
   "metadata": {},
   "source": [
    "## （オプション）推論結果の確認\n",
    "\n",
    "推論データは pklファイルに保存されています。pklファイルを読み込みことで推論データを確認することができます。"
   ]
  },
  {
   "cell_type": "code",
   "execution_count": 3,
   "id": "f570f9c9",
   "metadata": {},
   "outputs": [
    {
     "name": "stdout",
     "output_type": "stream",
     "text": [
      "result size:  3769\n",
      "tensor([[ 4.6201e+01, -4.6468e+00,  2.9013e-02,  5.0090e-01,  1.7551e+00,\n",
      "          1.7293e+00,  1.2575e+00],\n",
      "        [ 1.5356e+01, -7.4090e+00,  3.4037e-02,  4.4621e-01,  1.5843e+00,\n",
      "          1.6028e+00,  5.3754e-01],\n",
      "        [ 4.6764e+01,  2.0221e+01, -1.5747e+00,  1.6073e+00,  4.1575e+00,\n",
      "          1.5082e+00,  2.9629e+00]], device='cuda:0')\n"
     ]
    }
   ],
   "source": [
    "import pickle\n",
    "\n",
    "result_pkl = \"../second.pytorch/checkpoints/pointpainting/eval_results/step_18570/result.pkl\"\n",
    "\n",
    "with open(result_pkl, 'rb') as f:\n",
    "    result = pickle.load(f)\n",
    "\n",
    "print(\"result size: \", len(result))\n",
    "print(result[0][\"box3d_lidar\"])  # (7, n)  [x, y, z, l, h, w, rz]"
   ]
  },
  {
   "cell_type": "markdown",
   "id": "39fe1e2a",
   "metadata": {},
   "source": [
    "以上"
   ]
  }
 ],
 "metadata": {
  "kernelspec": {
   "display_name": "Python 3 (ipykernel)",
   "language": "python",
   "name": "python3"
  },
  "language_info": {
   "codemirror_mode": {
    "name": "ipython",
    "version": 3
   },
   "file_extension": ".py",
   "mimetype": "text/x-python",
   "name": "python",
   "nbconvert_exporter": "python",
   "pygments_lexer": "ipython3",
   "version": "3.8.10"
  }
 },
 "nbformat": 4,
 "nbformat_minor": 5
}
