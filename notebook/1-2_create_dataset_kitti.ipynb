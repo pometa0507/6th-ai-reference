{
 "cells": [
  {
   "cell_type": "markdown",
   "id": "e7733cf0",
   "metadata": {},
   "source": [
    "# 概要\n",
    "\n",
    "本ファイルは、KITTIデータセットで3D物体検出モデルの学習/推論を実行するための事前準備を行います。  \n",
    "\n",
    "> 本ファイルで実行するスクリプトはsecond.pytorchをベースとしています。\n",
    "\n",
    "## Output\n",
    "\n",
    "本ファイルを実行することで、`data`ディレクトリに、削減した点群データ(velodyne_reduced)と、学習と推論に必要なデータセットのメタ情報(pkl)を生成します。\n",
    "\n",
    "```\n",
    "└ data\n",
    "    └ kitti    \n",
    "        ├ training\n",
    "            ├─ image_2\n",
    "            ├─ calib\n",
    "            ├─ label_2\n",
    "            ├─ velodyne\n",
    "            ├─ velodyne_painted\n",
    "            └─ velodyne_reduced   <- 生成されます\n",
    "        ├ gt_database              <- 生成されます\n",
    "        ├ kitti_dbinfos_train.pkl  <- 生成されます\n",
    "        ├ kitti_infos_train.pkl    <- 生成されます\n",
    "        ├ kitti_infos_val.pkl      <- 生成されます\n",
    "        └ kitti_infos_trainval.pkl <- 生成されます\n",
    "```"
   ]
  },
  {
   "cell_type": "markdown",
   "id": "e9098831",
   "metadata": {},
   "source": [
    "# 準備\n",
    "\n",
    "あらかじめ、 `data`ディレクトリに、KITTIデータセットと拡張点群の`velodune_painted`ディレクトリがあることを確認してください。\n",
    "\n",
    "\n",
    "```\n",
    "└ data\n",
    "    └ kitti\n",
    "        └ training\n",
    "            ├─ image_2\n",
    "            ├─ calib\n",
    "            ├─ label_2\n",
    "            ├─ velodyne\n",
    "            └─ velodyne_painted   <-- 1-1_painting_kitti.ipynb にて生成\n",
    "```"
   ]
  },
  {
   "cell_type": "markdown",
   "id": "2850577d",
   "metadata": {},
   "source": [
    "# KITTIデータセットの前処理"
   ]
  },
  {
   "cell_type": "code",
   "execution_count": 1,
   "id": "edc56222",
   "metadata": {},
   "outputs": [],
   "source": [
    "# 設定\n",
    "\n",
    "dataset_path = \"../data/kitti/\"\n",
    "velodyne_dir = \"velodyne_painted\" # 拡張点群のディレクトリパスを指定\n",
    "\n",
    "num_point_feature = 8 # 点群の特徴量次元(x, y, z, r, C1, C2, C3, C4)"
   ]
  },
  {
   "cell_type": "code",
   "execution_count": 2,
   "id": "fe206e8c",
   "metadata": {
    "scrolled": true
   },
   "outputs": [
    {
     "name": "stdout",
     "output_type": "stream",
     "text": [
      "Generate info. this may take several minutes.\n",
      "Kitti info train file is saved to ../data/kitti/kitti_infos_train.pkl\n",
      "Kitti info val file is saved to ../data/kitti/kitti_infos_val.pkl\n",
      "Kitti info trainval file is saved to ../data/kitti/kitti_infos_trainval.pkl\n",
      "[100.0%][===================>][208.14it/s][00:18>00:00]   \n",
      "[100.0%][===================>][190.80it/s][00:21>00:00]   \n",
      "remain number of infos: 3712\n",
      "[100.0%][===================>][154.75it/s][00:23>00:00]   \n",
      "load 2207 Pedestrian database infos\n",
      "load 14357 Car database infos\n",
      "load 734 Cyclist database infos\n",
      "load 1297 Van database infos\n",
      "load 488 Truck database infos\n",
      "load 224 Tram database infos\n",
      "load 337 Misc database infos\n",
      "load 56 Person_sitting database infos\n"
     ]
    }
   ],
   "source": [
    "# 前処理スクリプトの実行\n",
    "\n",
    "!python ../second.pytorch/second/create_data.py kitti_data_prep \\\n",
    "        --root_path=$dataset_path \\\n",
    "        --velodyne_dir_name=$velodyne_dir \\\n",
    "        --num_point_features=$num_point_feature"
   ]
  },
  {
   "cell_type": "markdown",
   "id": "7e9af7e7",
   "metadata": {},
   "source": [
    "以上"
   ]
  }
 ],
 "metadata": {
  "kernelspec": {
   "display_name": "Python 3 (ipykernel)",
   "language": "python",
   "name": "python3"
  },
  "language_info": {
   "codemirror_mode": {
    "name": "ipython",
    "version": 3
   },
   "file_extension": ".py",
   "mimetype": "text/x-python",
   "name": "python",
   "nbconvert_exporter": "python",
   "pygments_lexer": "ipython3",
   "version": "3.8.10"
  }
 },
 "nbformat": 4,
 "nbformat_minor": 5
}
