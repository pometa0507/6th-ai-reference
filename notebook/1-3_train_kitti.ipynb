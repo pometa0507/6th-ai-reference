{
 "cells": [
  {
   "cell_type": "markdown",
   "id": "e7733cf0",
   "metadata": {},
   "source": [
    "# 概要\n",
    "\n",
    "本ファイルは、3D物体検出モデルの学習を行います。    \n",
    "\n",
    "> 本ファイルで実行するスクリプトはsecond.pytorchをベースとしています。\n",
    "\n",
    "## Output\n",
    "\n",
    "本ファイルを実行することで、`second.pytorch/checkpoints/{model_dir}` ディレクトリに学習結果が保存されます。  \n",
    "> `{model_dir}`は、ノートブック内で設定する保存ディレクトリ名です。任意のディレクトリ名に変更して実行できます。  \n",
    "> デフォルトのディレクトリ名は、`model`として設定されています。  \n",
    "> ただし、既に存在するディレクトリ名を指定するとエラーとなります。\n",
    "\n",
    "\n",
    "```\n",
    "└ second.pytorch\n",
    "     └─ checkpoints\n",
    "          └ {model_dir}                   <- 本ファイルにて生成されます\n",
    "                ├── summary             <- Tensorboard用ログ\n",
    "                ├── checkpoints.json\n",
    "                ├── log.txt\n",
    "                ├── {model-step}.tckpt  <- 学習済みモデル\n",
    "```"
   ]
  },
  {
   "cell_type": "markdown",
   "id": "e9098831",
   "metadata": {},
   "source": [
    "# 準備\n",
    "\n",
    "あらかじめ、 `data`ディレクトリに、KITTIデータセットと`velodyne_reduced`ディレクトリ、および、各メタ情報(pkl)ファイルがあることを確認してください。\n",
    "\n",
    "```\n",
    "└ data\n",
    "     ├─ training\n",
    "          ├── image_2\n",
    "          ├── calib\n",
    "          ├── label_2\n",
    "          ├── velodyne\n",
    "          └── velodyne_reduced    <-- 1-2_create_dataset_kitti.ipynb にて生成\n",
    "     ├ kitti_gt_database            <-- 1-2_create_dataset_kitti.ipynb にて生成\n",
    "     ├ kitti_infos_train.pkl        <-- 1-2_create_dataset_kitti.ipynb にて生成\n",
    "     ├ kitti_infos_val.pkl          <-- 1-2_create_dataset_kitti.ipynb にて生成\n",
    "     └ kitti_infos_trainval.pkl     <-- 1-2_create_dataset_kitti.ipynb にて生成\n",
    "```"
   ]
  },
  {
   "cell_type": "markdown",
   "id": "47fd63c0",
   "metadata": {},
   "source": [
    "# 学習"
   ]
  },
  {
   "cell_type": "markdown",
   "id": "6668c6bd",
   "metadata": {},
   "source": [
    "## （オプション）Tensorboardの起動\n",
    "\n",
    "学習結果はTensorboardで確認することができます。  \n",
    "Tenosorboardを起動しなくても、学習は実行できます。"
   ]
  },
  {
   "cell_type": "code",
   "execution_count": 1,
   "id": "6554ab50",
   "metadata": {},
   "outputs": [
    {
     "data": {
      "text/html": [
       "\n",
       "      <iframe id=\"tensorboard-frame-44295b6d73a56f56\" width=\"100%\" height=\"800\" frameborder=\"0\">\n",
       "      </iframe>\n",
       "      <script>\n",
       "        (function() {\n",
       "          const frame = document.getElementById(\"tensorboard-frame-44295b6d73a56f56\");\n",
       "          const url = new URL(\"/\", window.location);\n",
       "          const port = 6006;\n",
       "          if (port) {\n",
       "            url.port = port;\n",
       "          }\n",
       "          frame.src = url;\n",
       "        })();\n",
       "      </script>\n",
       "    "
      ],
      "text/plain": [
       "<IPython.core.display.HTML object>"
      ]
     },
     "metadata": {},
     "output_type": "display_data"
    }
   ],
   "source": [
    "# Load the TensorBoard notebook extension\n",
    "%load_ext tensorboard\n",
    "\n",
    "%tensorboard --logdir \"../second.pytorch/checkpoints/\" --bind_all"
   ]
  },
  {
   "cell_type": "markdown",
   "id": "2781e548",
   "metadata": {},
   "source": [
    "## 学習の実行\n",
    "\n",
    "\n",
    "KITTIデータセットの学習データに対して学習を実施します。  \n",
    "学習データの対象は`second.pytorch/second/data/ImageSets/train.txt`で定義されています。"
   ]
  },
  {
   "cell_type": "code",
   "execution_count": 2,
   "id": "b48e1040",
   "metadata": {},
   "outputs": [],
   "source": [
    "# パスの設定\n",
    "config_path = \"../second.pytorch/second/configs/all.fhd_painted.config\"\n",
    "\n",
    "model_dir = \"../second.pytorch/checkpoints/model\""
   ]
  },
  {
   "cell_type": "code",
   "execution_count": null,
   "id": "e96097d7",
   "metadata": {
    "scrolled": true
   },
   "outputs": [],
   "source": [
    "# 学習スクリプトの実行\n",
    "!python ../second.pytorch/second/pytorch/train.py train \\\n",
    "        --config_path=$config_path --model_dir=$model_dir"
   ]
  },
  {
   "cell_type": "markdown",
   "id": "7e9af7e7",
   "metadata": {},
   "source": [
    "以上"
   ]
  }
 ],
 "metadata": {
  "kernelspec": {
   "display_name": "Python 3 (ipykernel)",
   "language": "python",
   "name": "python3"
  },
  "language_info": {
   "codemirror_mode": {
    "name": "ipython",
    "version": 3
   },
   "file_extension": ".py",
   "mimetype": "text/x-python",
   "name": "python",
   "nbconvert_exporter": "python",
   "pygments_lexer": "ipython3",
   "version": "3.7.5"
  }
 },
 "nbformat": 4,
 "nbformat_minor": 5
}
